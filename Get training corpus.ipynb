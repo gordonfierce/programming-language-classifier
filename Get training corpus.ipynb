{
 "cells": [
  {
   "cell_type": "code",
   "execution_count": 1,
   "metadata": {
    "collapsed": false
   },
   "outputs": [],
   "source": [
    "from bs4 import BeautifulSoup\n",
    "import requests\n",
    "import os\n",
    "import random\n",
    "import pandas as pd\n",
    "import numpy as np\n",
    "import re"
   ]
  },
  {
   "cell_type": "code",
   "execution_count": 2,
   "metadata": {
    "collapsed": false
   },
   "outputs": [
    {
     "data": {
      "text/plain": [
       "bs4.element.Tag"
      ]
     },
     "execution_count": 2,
     "metadata": {},
     "output_type": "execute_result"
    }
   ],
   "source": [
    "#def grab_webpage(location):\n",
    "url = 'http://rosettacode.org/wiki/I_before_E_except_after_C'\n",
    "page = requests.get(url)\n",
    "soup = BeautifulSoup(page.content)\n",
    "#print(soup.prettify())\n",
    "all_headers = soup.findAll(\"h2\")\n",
    "type(all_headers[0])"
   ]
  },
  {
   "cell_type": "code",
   "execution_count": 202,
   "metadata": {
    "collapsed": false
   },
   "outputs": [],
   "source": [
    "def bret_classifier(snippet):\n",
    "    languages = [\"clojure\", \"python\", \"javascript\", \"ruby\", \"haskell\", \"scheme\", \"java\", \"scala\", \"tcl\", \"php\", \"ocaml\"]\n",
    "    return random.choice(languages)"
   ]
  },
  {
   "cell_type": "code",
   "execution_count": 203,
   "metadata": {
    "collapsed": false
   },
   "outputs": [
    {
     "data": {
      "text/plain": [
       "'javascript'"
      ]
     },
     "execution_count": 203,
     "metadata": {},
     "output_type": "execute_result"
    }
   ],
   "source": [
    "bret_classifier(\"set: var = python ++ & programming\")"
   ]
  },
  {
   "cell_type": "code",
   "execution_count": 204,
   "metadata": {
    "collapsed": false
   },
   "outputs": [],
   "source": [
    "def test_classification(classifier_function):\n",
    "    for filename in os.listdir('test'):\n",
    "        file = open('test/' + filename)\n",
    "        program_text = file.read()\n",
    "        #print(program_text)\n",
    "        print(classifier_function(program_text))"
   ]
  },
  {
   "cell_type": "code",
   "execution_count": 205,
   "metadata": {
    "collapsed": false
   },
   "outputs": [
    {
     "name": "stdout",
     "output_type": "stream",
     "text": [
      "php\n",
      "javascript\n",
      "java\n",
      "javascript\n",
      "java\n",
      "php\n",
      "php\n",
      "python\n",
      "python\n",
      "tcl\n",
      "clojure\n",
      "ocaml\n",
      "ocaml\n",
      "java\n",
      "ruby\n",
      "tcl\n",
      "scala\n",
      "javascript\n",
      "clojure\n",
      "ocaml\n",
      "ruby\n",
      "ocaml\n",
      "clojure\n",
      "php\n",
      "haskell\n",
      "ruby\n",
      "scala\n",
      "ocaml\n",
      "java\n",
      "python\n",
      "scala\n",
      "python\n"
     ]
    }
   ],
   "source": [
    "test_classification(bret_classifier)"
   ]
  },
  {
   "cell_type": "code",
   "execution_count": 206,
   "metadata": {
    "collapsed": false
   },
   "outputs": [
    {
     "name": "stdout",
     "output_type": "stream",
     "text": [
      "{'', '.py', '.rust', '.perl', '.gnat', '.c', '.conf', '.java', '.ozf', '.javasteady', '.txt', '.hack', '.oz', '.sbcl', '.erlang', '.ifc', '.lua', '.ini', '.javascript', '.csharp', '.fpascal', '.lang', '.python3', '.parrot', '.cint', '.bash', '.vw', '.dart', '.gcc', '.python', '.ghc', '.ats', '.ocaml', '.gpp', '.jruby', '.yarv', '.fsharp', '.go', '.clojure', '.h', '.cc', '.Makefile', '.scala', '.php', '.racket'}\n"
     ]
    }
   ],
   "source": [
    "possible_factors = [r\"$\", r\"def\", r\"end\", r\"{\", r\"}\", r\"&\"]\n",
    "file_extensions = {\".py\": \"python\",\n",
    "                   \".rb\": \"ruby\",\n",
    "                   \".ruby\": \"ruby\",\n",
    "                   \".jruby\": \"ruby\",\n",
    "                   \".python\": \"python\",\n",
    "                   \".clojure\": \"clojure\",\n",
    "                   \".php\": \"php\",\n",
    "                   \".ocaml\": \"ocaml\",\n",
    "                   \".java\": \"java\",\n",
    "                   \".javascript\": \"javascript\",\n",
    "                   \".python3\": \"python\",\n",
    "                   \".racket\": \"scheme\",\n",
    "                   \".ghc\": \"haskell\",\n",
    "                   \".tcl\": \"tcl\",\n",
    "                   \".scala\": \"scala\",\n",
    "                   }\n",
    "all_extensions = set()\n",
    "for root, dirs, files in os.walk(\"benchmarksgame-2014-08-31/\"):\n",
    "    for filed in files:\n",
    "        all_extensions.add(os.path.splitext(filed)[1])\n",
    "print(all_extensions)"
   ]
  },
  {
   "cell_type": "code",
   "execution_count": 207,
   "metadata": {
    "collapsed": false
   },
   "outputs": [],
   "source": [
    "def get_training_samples(directory, extension_dict):\n",
    "    \"Read in the examples, kick out a list of tuples of text and classifications.\"\n",
    "    text_list = []\n",
    "    lang_list = []\n",
    "    for root, dirs, files in os.walk(directory):\n",
    "        for particular_file in files:\n",
    "            extension = os.path.splitext(particular_file)[1]\n",
    "            if extension in file_extensions:\n",
    "                #print(\"Yay! \" + particular_file)\n",
    "                #print(os.path.join(root, particular_file))\n",
    "                try:\n",
    "                    file_in = open(os.path.join(root, particular_file))\n",
    "                    text = file_in.read()\n",
    "                    #print(text)\n",
    "                    text_list.append(text)\n",
    "                    lang_list.append(extension_dict[extension])\n",
    "                except:\n",
    "                    print(\"hiccuped on : \" + particular_file)\n",
    "    df = pd.DataFrame({\"code\": text_list,\n",
    "                       \"language\": lang_list})\n",
    "    return df\n",
    "    "
   ]
  },
  {
   "cell_type": "code",
   "execution_count": 208,
   "metadata": {
    "collapsed": false
   },
   "outputs": [
    {
     "name": "stdout",
     "output_type": "stream",
     "text": [
      "hiccuped on : pidigits.ocaml-2.ocaml\n"
     ]
    }
   ],
   "source": [
    "training_data = get_training_samples(\"benchmarksgame-2014-08-31/\", file_extensions)"
   ]
  },
  {
   "cell_type": "code",
   "execution_count": 209,
   "metadata": {
    "collapsed": false
   },
   "outputs": [
    {
     "name": "stdout",
     "output_type": "stream",
     "text": [
      "<class 'pandas.core.frame.DataFrame'>\n",
      "Int64Index: 367 entries, 0 to 366\n",
      "Data columns (total 2 columns):\n",
      "code        367 non-null object\n",
      "language    367 non-null object\n",
      "dtypes: object(2)\n",
      "memory usage: 8.6+ KB\n"
     ]
    }
   ],
   "source": [
    "training_data.info()"
   ]
  },
  {
   "cell_type": "code",
   "execution_count": 210,
   "metadata": {
    "collapsed": false
   },
   "outputs": [
    {
     "data": {
      "text/plain": [
       "java          52\n",
       "python        50\n",
       "scala         43\n",
       "clojure       38\n",
       "ocaml         34\n",
       "ruby          34\n",
       "haskell       33\n",
       "php           29\n",
       "scheme        29\n",
       "javascript    25\n",
       "dtype: int64"
      ]
     },
     "execution_count": 210,
     "metadata": {},
     "output_type": "execute_result"
    }
   ],
   "source": [
    "training_data.language.value_counts()"
   ]
  },
  {
   "cell_type": "code",
   "execution_count": 211,
   "metadata": {
    "collapsed": false
   },
   "outputs": [],
   "source": [
    "test_regex = re.compile(r\"def\")\n",
    "test_regex_2 = re.compile(r\"var\")\n",
    "test_regex_objects = [test_regex, test_regex_2]\n",
    "def text_factors(snippet, regex_objects):\n",
    "    \"Takes a code snippet and returns a vector of features in [0,1]\"\n",
    "    normalizing_factor = len(snippet)\n",
    "    factors = []\n",
    "    for factor in range(len(regex_objects)):\n",
    "        target = regex_objects[factor]\n",
    "        total_num = len(target.findall(snippet))\n",
    "        frequency = total_num / normalizing_factor\n",
    "        factors.append(frequency)\n",
    "    factor_array = np.array(factors)    \n",
    "    return factor_array"
   ]
  },
  {
   "cell_type": "code",
   "execution_count": 212,
   "metadata": {
    "collapsed": false
   },
   "outputs": [
    {
     "data": {
      "text/plain": [
       "array([ 0.00454545,  0.        ])"
      ]
     },
     "execution_count": 212,
     "metadata": {},
     "output_type": "execute_result"
    }
   ],
   "source": [
    "text_factors(training_data.iloc[0,0], test_regex_objects)"
   ]
  },
  {
   "cell_type": "code",
   "execution_count": 213,
   "metadata": {
    "collapsed": false
   },
   "outputs": [
    {
     "data": {
      "text/plain": [
       "list"
      ]
     },
     "execution_count": 213,
     "metadata": {},
     "output_type": "execute_result"
    }
   ],
   "source": [
    "type(test_regex.findall(training_data.iloc[0,0]))"
   ]
  },
  {
   "cell_type": "code",
   "execution_count": 214,
   "metadata": {
    "collapsed": false
   },
   "outputs": [
    {
     "name": "stdout",
     "output_type": "stream",
     "text": [
      "[ 0.00454545  0.        ]\n"
     ]
    }
   ],
   "source": [
    "print(text_factors(training_data.iloc[0,0], test_regex_objects))"
   ]
  },
  {
   "cell_type": "code",
   "execution_count": 215,
   "metadata": {
    "collapsed": false
   },
   "outputs": [
    {
     "data": {
      "text/plain": [
       "numpy.ndarray"
      ]
     },
     "execution_count": 215,
     "metadata": {},
     "output_type": "execute_result"
    }
   ],
   "source": [
    "type(text_factors(training_data.iloc[0,0], test_regex_objects))"
   ]
  },
  {
   "cell_type": "code",
   "execution_count": 216,
   "metadata": {
    "collapsed": false
   },
   "outputs": [],
   "source": [
    "def compile_regex_objects(factors):\n",
    "    \"Given possible strings in the code, return a list of regex objects that can match for them.\"\n",
    "    objects = []\n",
    "    for factor in factors:\n",
    "        current_object = re.compile(factor)\n",
    "        objects.append(current_object)\n",
    "    return objects"
   ]
  },
  {
   "cell_type": "code",
   "execution_count": 217,
   "metadata": {
    "collapsed": false
   },
   "outputs": [],
   "source": [
    "regex_list = compile_regex_objects(possible_factors)"
   ]
  },
  {
   "cell_type": "code",
   "execution_count": 218,
   "metadata": {
    "collapsed": false
   },
   "outputs": [
    {
     "data": {
      "text/plain": [
       "[re.compile(r'$', re.UNICODE),\n",
       " re.compile(r'def', re.UNICODE),\n",
       " re.compile(r'end', re.UNICODE),\n",
       " re.compile(r'{', re.UNICODE),\n",
       " re.compile(r'}', re.UNICODE),\n",
       " re.compile(r'&', re.UNICODE)]"
      ]
     },
     "execution_count": 218,
     "metadata": {},
     "output_type": "execute_result"
    }
   ],
   "source": [
    "regex_list"
   ]
  },
  {
   "cell_type": "code",
   "execution_count": 219,
   "metadata": {
    "collapsed": false
   },
   "outputs": [
    {
     "data": {
      "text/plain": [
       "array([ 0.00146199,  0.        ,  0.        ,  0.00511696,  0.00511696,  0.        ])"
      ]
     },
     "execution_count": 219,
     "metadata": {},
     "output_type": "execute_result"
    }
   ],
   "source": [
    "text_factors(training_data.iloc[9,0], regex_list)"
   ]
  },
  {
   "cell_type": "code",
   "execution_count": 220,
   "metadata": {
    "collapsed": false
   },
   "outputs": [],
   "source": [
    "test_array = np.zeros((10, 1))"
   ]
  },
  {
   "cell_type": "code",
   "execution_count": 221,
   "metadata": {
    "collapsed": false
   },
   "outputs": [],
   "source": [
    "test_array[2] = 1"
   ]
  },
  {
   "cell_type": "code",
   "execution_count": 222,
   "metadata": {
    "collapsed": false
   },
   "outputs": [
    {
     "data": {
      "text/plain": [
       "array([[ 0.],\n",
       "       [ 0.],\n",
       "       [ 1.],\n",
       "       [ 0.],\n",
       "       [ 0.],\n",
       "       [ 0.],\n",
       "       [ 0.],\n",
       "       [ 0.],\n",
       "       [ 0.],\n",
       "       [ 0.]])"
      ]
     },
     "execution_count": 222,
     "metadata": {},
     "output_type": "execute_result"
    }
   ],
   "source": [
    "test_array.reshape(1, -1).reshape(-1, 1)"
   ]
  },
  {
   "cell_type": "code",
   "execution_count": 223,
   "metadata": {
    "collapsed": false
   },
   "outputs": [],
   "source": [
    "import theano"
   ]
  },
  {
   "cell_type": "code",
   "execution_count": 8,
   "metadata": {
    "collapsed": false
   },
   "outputs": [],
   "source": [
    "autohotkey = soup.find(\"pre\")"
   ]
  },
  {
   "cell_type": "code",
   "execution_count": 15,
   "metadata": {
    "collapsed": false
   },
   "outputs": [
    {
     "data": {
      "text/plain": [
       "'WordList := URL_ToVar(\"http://www.puzzlers.org/pub/wordlists/unixdict.txt\")WordList := RegExReplace(WordList, \"i)cie\", \"\", cieN)WordList := RegExReplace(WordList, \"i)cei\", \"\", ceiN)RegExReplace(WordList, \"i)ie\", \"\", ieN)RegExReplace(WordList, \"i)ei\", \"\", eiN)\\xa0cei := ceiN / cieN > 2\\xa0? \"plausible\"\\xa0: \"implausible\"ei  := ieN  / eiN  > 2\\xa0? \"plausible\"\\xa0: \"implausible\"ova := cei = \"plausible.\" && ei = \"plausible\"\\xa0? \"plausible\"\\xa0: \"implausible\"\\xa0MsgBox,\\xa0% \"\"\"I before E when not preceded by C\"\" is \" ei \".`n\"        . ieN \" cases for and \" eiN \" cases against is a ratio of \" ieN / eiN \".`n`n\"        . \"\"\"E before I when preceded by C\"\" is \" cei \".`n\"        . ceiN \" cases for and \" cieN \" cases against is a ratio of \" ceiN / cieN \".`n`n\"        . \"Overall the rule is \" ova \".\"\\xa0URL_ToVar(URL) {    WebRequest := ComObjCreate(\"WinHttp.WinHttpRequest.5.1\")    WebRequest.Open(\"GET\", URL)    WebRequest.Send()    return, WebRequest.ResponseText}'"
      ]
     },
     "execution_count": 15,
     "metadata": {},
     "output_type": "execute_result"
    }
   ],
   "source": [
    "autohotkey.get_text()"
   ]
  },
  {
   "cell_type": "markdown",
   "metadata": {},
   "source": [
    "WordList := URL_ToVar(\"http://www.puzzlers.org/pub/wordlists/unixdict.txt\")\n",
    "WordList := RegExReplace(WordList, \"i)cie\", \"\", cieN)\n",
    "WordList := RegExReplace(WordList, \"i)cei\", \"\", ceiN)\n",
    "RegExReplace(WordList, \"i)ie\", \"\", ieN)\n",
    "RegExReplace(WordList, \"i)ei\", \"\", eiN)\n",
    " \n",
    "cei := ceiN / cieN > 2 ? \"plausible\" : \"implausible\"\n",
    "ei  := ieN  / eiN  > 2 ? \"plausible\" : \"implausible\"\n",
    "ova := cei = \"plausible.\" && ei = \"plausible\" ? \"plausible\" : \"implausible\"\n",
    " \n",
    "MsgBox, % \"\"\"I before E when not preceded by C\"\" is \" ei \".`n\"\n",
    "        . ieN \" cases for and \" eiN \" cases against is a ratio of \" ieN / eiN \".`n`n\"\n",
    "        . \"\"\"E before I when preceded by C\"\" is \" cei \".`n\"\n",
    "        . ceiN \" cases for and \" cieN \" cases against is a ratio of \" ceiN / cieN \".`n`n\"\n",
    "        . \"Overall the rule is \" ova \".\"\n",
    " \n",
    "URL_ToVar(URL) {\n",
    "    WebRequest := ComObjCreate(\"WinHttp.WinHttpRequest.5.1\")\n",
    "    WebRequest.Open(\"GET\", URL)\n",
    "    WebRequest.Send()\n",
    "    return, WebRequest.ResponseText\n",
    "}"
   ]
  },
  {
   "cell_type": "code",
   "execution_count": 49,
   "metadata": {
    "collapsed": false,
    "scrolled": false
   },
   "outputs": [
    {
     "data": {
      "text/plain": [
       "'WordList := URL_ToVar(\"http://www.puzzlers.org/pub/wordlists/unixdict.txt\")WordList := RegExReplace(WordList, \"i)cie\", \"\", cieN)WordList := RegExReplace(WordList, \"i)cei\", \"\", ceiN)RegExReplace(WordList, \"i)ie\", \"\", ieN)RegExReplace(WordList, \"i)ei\", \"\", eiN)\\xa0cei := ceiN / cieN > 2\\xa0? \"plausible\"\\xa0: \"implausible\"ei  := ieN  / eiN  > 2\\xa0? \"plausible\"\\xa0: \"implausible\"ova := cei = \"plausible.\" && ei = \"plausible\"\\xa0? \"plausible\"\\xa0: \"implausible\"\\xa0MsgBox,\\xa0% \"\"\"I before E when not preceded by C\"\" is \" ei \".`n\"        . ieN \" cases for and \" eiN \" cases against is a ratio of \" ieN / eiN \".`n`n\"        . \"\"\"E before I when preceded by C\"\" is \" cei \".`n\"        . ceiN \" cases for and \" cieN \" cases against is a ratio of \" ceiN / cieN \".`n`n\"        . \"Overall the rule is \" ova \".\"\\xa0URL_ToVar(URL) {    WebRequest := ComObjCreate(\"WinHttp.WinHttpRequest.5.1\")    WebRequest.Open(\"GET\", URL)    WebRequest.Send()    return, WebRequest.ResponseText}'"
      ]
     },
     "execution_count": 49,
     "metadata": {},
     "output_type": "execute_result"
    }
   ],
   "source": [
    "\"\".join([string for string in autohotkey.strings])"
   ]
  },
  {
   "cell_type": "code",
   "execution_count": 54,
   "metadata": {
    "collapsed": false
   },
   "outputs": [
    {
     "name": "stdout",
     "output_type": "stream",
     "text": [
      "WordList := URL_ToVar(\"http://www.puzzlers.org/pub/wordlists/unixdict.txt\")WordList := RegExReplace(WordList, \"i)cie\", \"\", cieN)WordList := RegExReplace(WordList, \"i)cei\", \"\", ceiN)RegExReplace(WordList, \"i)ie\", \"\", ieN)RegExReplace(WordList, \"i)ei\", \"\", eiN) cei := ceiN / cieN > 2 ? \"plausible\" : \"implausible\"ei  := ieN  / eiN  > 2 ? \"plausible\" : \"implausible\"ova := cei = \"plausible.\" && ei = \"plausible\" ? \"plausible\" : \"implausible\" MsgBox, % \"\"\"I before E when not preceded by C\"\" is \" ei \".`n\"        . ieN \" cases for and \" eiN \" cases against is a ratio of \" ieN / eiN \".`n`n\"        . \"\"\"E before I when preceded by C\"\" is \" cei \".`n\"        . ceiN \" cases for and \" cieN \" cases against is a ratio of \" ceiN / cieN \".`n`n\"        . \"Overall the rule is \" ova \".\" URL_ToVar(URL) {    WebRequest := ComObjCreate(\"WinHttp.WinHttpRequest.5.1\")    WebRequest.Open(\"GET\", URL)    WebRequest.Send()    return, WebRequest.ResponseText}\n"
     ]
    }
   ],
   "source": [
    "print(autohotkey.get_text())"
   ]
  },
  {
   "cell_type": "code",
   "execution_count": null,
   "metadata": {
    "collapsed": true
   },
   "outputs": [],
   "source": []
  }
 ],
 "metadata": {
  "kernelspec": {
   "display_name": "Python 3",
   "language": "python",
   "name": "python3"
  },
  "language_info": {
   "codemirror_mode": {
    "name": "ipython",
    "version": 3
   },
   "file_extension": ".py",
   "mimetype": "text/x-python",
   "name": "python",
   "nbconvert_exporter": "python",
   "pygments_lexer": "ipython3",
   "version": "3.4.2"
  }
 },
 "nbformat": 4,
 "nbformat_minor": 0
}
