{
 "cells": [
  {
   "cell_type": "code",
   "execution_count": 14,
   "metadata": {
    "collapsed": false
   },
   "outputs": [],
   "source": [
    "import os\n",
    "import random\n",
    "import numpy as np\n",
    "import re\n",
    "from network import Network\n",
    "import csv\n",
    "from sklearn import metrics, cross_validation"
   ]
  },
  {
   "cell_type": "code",
   "execution_count": 15,
   "metadata": {
    "collapsed": false
   },
   "outputs": [],
   "source": [
    "file_extensions = {\".py\": \"python\",\n",
    "                   \".rb\": \"ruby\",\n",
    "                   \".ruby\": \"ruby\",\n",
    "                   \".jruby\": \"ruby\",\n",
    "                   \".python\": \"python\",\n",
    "                   \".clojure\": \"clojure\",\n",
    "                   \".php\": \"php\",\n",
    "                   \".ocaml\": \"ocaml\",\n",
    "                   \".java\": \"java\",\n",
    "                   \".javascript\": \"javascript\",\n",
    "                   \".python3\": \"python\",\n",
    "                   \".racket\": \"scheme\",\n",
    "                   \".ghc\": \"haskell\",\n",
    "                   \".tcl\": \"tcl\",\n",
    "                   \".scala\": \"scala\"}"
   ]
  },
  {
   "cell_type": "code",
   "execution_count": 16,
   "metadata": {
    "collapsed": true
   },
   "outputs": [],
   "source": [
    "possible_factors = [\"/$\", \n",
    "                    \"def\", \n",
    "                    \"end\", \n",
    "                    \"{\", \n",
    "                    \"}\", \n",
    "                    \"&\", \n",
    "                    \"\\(\", \n",
    "                    \"\\)\", \n",
    "                    \"nil\", \n",
    "                    \"var\", \n",
    "                    \"print\", \n",
    "                    \"END\", \n",
    "                    \"do\", \n",
    "                    \"int\", \n",
    "                    \"str\", \n",
    "                    \"static\",\n",
    "                    \"public\", \n",
    "                    \"/+/+\", \n",
    "                    \"put\", \n",
    "                    \"return\", \n",
    "                    \"map\", \n",
    "                    \"->\", \n",
    "                    \"BigInt\", \n",
    "                    \"php\", \n",
    "                    \"|\", \n",
    "                    \"each\"]"
   ]
  },
  {
   "cell_type": "code",
   "execution_count": 17,
   "metadata": {
    "collapsed": false
   },
   "outputs": [],
   "source": [
    "def compile_regex_objects(factors):\n",
    "    \"Given possible strings in the code, return a list of regex objects that can match for them.\"\n",
    "    objects = []\n",
    "    for factor in factors:\n",
    "        try:\n",
    "            current_object = re.compile(factor)\n",
    "        except:\n",
    "            print(\"Problem with {}\".format(factor))\n",
    "        objects.append(current_object)\n",
    "    return objects"
   ]
  },
  {
   "cell_type": "code",
   "execution_count": 18,
   "metadata": {
    "collapsed": false
   },
   "outputs": [],
   "source": [
    "def text_factors(snippet, regex_objects):\n",
    "    \"Takes a code snippet and returns a vector of binary features\"\n",
    "    normalizing_factor = len(snippet)\n",
    "    factors = []\n",
    "    for factor in range(len(regex_objects)):\n",
    "        target = regex_objects[factor]\n",
    "        if target.search(snippet) is None:\n",
    "            value = 0\n",
    "        else:\n",
    "            value = 1\n",
    "        factors.append(value)\n",
    "    factor_array = np.array(factors)  \n",
    "    factor_array = factor_array.reshape(-1, 1)\n",
    "    return factor_array"
   ]
  },
  {
   "cell_type": "code",
   "execution_count": 19,
   "metadata": {
    "collapsed": true
   },
   "outputs": [],
   "source": [
    "def binary_text_factors(snippet, regexes):\n",
    "    \"Creates a vector of binary factors for a given code snippet, using supplied regex objects.\"\n",
    "    return [1 if reg_obj.search(snippet) else 0 for reg_obj in regexes]"
   ]
  },
  {
   "cell_type": "code",
   "execution_count": 26,
   "metadata": {
    "collapsed": false
   },
   "outputs": [],
   "source": [
    "def get_training_samples(directory, extension_dict):\n",
    "    \"Read in the examples, kick out a list of tuples of text and classifications.\"\n",
    "    text_list = []\n",
    "    for root, dirs, files in os.walk(directory):\n",
    "        for particular_file in files:\n",
    "            extension = os.path.splitext(particular_file)[1]\n",
    "            if extension in file_extensions:\n",
    "                try:\n",
    "                    file_in = open(os.path.join(root, particular_file))\n",
    "                    text = file_in.read()\n",
    "                    text_list.append((text, extension_dict[extension]))\n",
    "                except UnicodeDecodeError:\n",
    "                    print(\"hiccuped on : \" + particular_file)\n",
    "    return text_list"
   ]
  },
  {
   "cell_type": "code",
   "execution_count": 27,
   "metadata": {
    "collapsed": false
   },
   "outputs": [
    {
     "name": "stdout",
     "output_type": "stream",
     "text": [
      "hiccuped on : pidigits.ocaml-2.ocaml\n"
     ]
    }
   ],
   "source": [
    "training_data = get_training_samples(\"benchmarksgame-2014-08-31/\", file_extensions)"
   ]
  },
  {
   "cell_type": "code",
   "execution_count": 43,
   "metadata": {
    "collapsed": false
   },
   "outputs": [
    {
     "data": {
      "text/plain": [
       "'clojure'"
      ]
     },
     "execution_count": 43,
     "metadata": {},
     "output_type": "execute_result"
    }
   ],
   "source": [
    "training_data[0][1]"
   ]
  },
  {
   "cell_type": "code",
   "execution_count": 105,
   "metadata": {
    "collapsed": false
   },
   "outputs": [],
   "source": [
    "def lang_vec(given_lang):\n",
    "    languages = [\"clojure\", \"python\", \"javascript\", \"ruby\", \"haskell\", \"scheme\", \"java\", \"scala\", \"php\", \"ocaml\", \"tcl\"]\n",
    "    return [1 if given_lang == lang else 0 for lang in languages]\n",
    "    \n",
    "def create_training_data(classifier_fcn, samples, regex_objects):\n",
    "    data_list = [(classifier_fcn(sample[0], regex_objects), lang_vec(sample[1])) for sample in samples]\n",
    "    return data_list\n",
    "\n",
    "def unvectorize_lang(vector):\n",
    "    \"\"\"Return a 10-dimensional unit vector with a 1.0 in the jth\n",
    "    position and zeroes elsewhere.  This is used to \n",
    "    \"\"\"\n",
    "    if type(vector) == np.ndarray:\n",
    "        index = vector.nonzero()[0].item()\n",
    "    else:\n",
    "        index = vector.index(1)\n",
    "    languages = [\"clojure\", \"python\", \"javascript\", \"ruby\", \"haskell\", \"scheme\", \"java\", \"scala\", \"php\", \"ocaml\", \"tcl\"]\n",
    "    lang = languages[index]\n",
    "    return lang\n",
    "\n",
    "assert unvectorize_lang(lang_vec('ruby')) == 'ruby'"
   ]
  },
  {
   "cell_type": "code",
   "execution_count": 55,
   "metadata": {
    "collapsed": true
   },
   "outputs": [],
   "source": [
    "regex_objects = compile_regex_objects(possible_factors)\n",
    "training_arrays = create_training_data(binary_text_factors, training_data, regex_objects)"
   ]
  },
  {
   "cell_type": "code",
   "execution_count": 56,
   "metadata": {
    "collapsed": false,
    "scrolled": false
   },
   "outputs": [],
   "source": [
    "first_net = Network([len(training_arrays[0][0]), 20, len(training_arrays[0][1])])"
   ]
  },
  {
   "cell_type": "code",
   "execution_count": 16,
   "metadata": {
    "collapsed": false
   },
   "outputs": [],
   "source": [
    "train, test = cross_validation.train_test_split(training_arrays, test_size=0.1)"
   ]
  },
  {
   "cell_type": "code",
   "execution_count": 17,
   "metadata": {
    "collapsed": false
   },
   "outputs": [
    {
     "data": {
      "text/plain": [
       "37"
      ]
     },
     "execution_count": 17,
     "metadata": {},
     "output_type": "execute_result"
    }
   ],
   "source": [
    "len(test)"
   ]
  },
  {
   "cell_type": "code",
   "execution_count": 18,
   "metadata": {
    "collapsed": false
   },
   "outputs": [],
   "source": [
    "trans_test = []\n",
    "for item in range(len(test)):\n",
    "    trans_test.append((test[item][0], get_one_index(test[item][1])))"
   ]
  },
  {
   "cell_type": "code",
   "execution_count": 19,
   "metadata": {
    "collapsed": false
   },
   "outputs": [
    {
     "name": "stdout",
     "output_type": "stream",
     "text": [
      "Epoch 0: 3 / 37\n",
      "Epoch 1: 8 / 37\n",
      "Epoch 2: 12 / 37\n",
      "Epoch 3: 12 / 37\n",
      "Epoch 4: 12 / 37\n",
      "Epoch 5: 13 / 37\n",
      "Epoch 6: 17 / 37\n",
      "Epoch 7: 14 / 37\n",
      "Epoch 8: 17 / 37\n",
      "Epoch 9: 16 / 37\n",
      "Epoch 10: 17 / 37\n",
      "Epoch 11: 17 / 37\n",
      "Epoch 12: 17 / 37\n",
      "Epoch 13: 20 / 37\n",
      "Epoch 14: 20 / 37\n",
      "Epoch 15: 22 / 37\n",
      "Epoch 16: 22 / 37\n",
      "Epoch 17: 21 / 37\n",
      "Epoch 18: 21 / 37\n",
      "Epoch 19: 23 / 37\n",
      "Epoch 20: 22 / 37\n",
      "Epoch 21: 22 / 37\n",
      "Epoch 22: 22 / 37\n",
      "Epoch 23: 23 / 37\n",
      "Epoch 24: 23 / 37\n",
      "Epoch 25: 24 / 37\n",
      "Epoch 26: 25 / 37\n",
      "Epoch 27: 25 / 37\n",
      "Epoch 28: 26 / 37\n",
      "Epoch 29: 25 / 37\n",
      "Epoch 30: 24 / 37\n",
      "Epoch 31: 26 / 37\n",
      "Epoch 32: 24 / 37\n",
      "Epoch 33: 23 / 37\n",
      "Epoch 34: 24 / 37\n",
      "Epoch 35: 25 / 37\n",
      "Epoch 36: 26 / 37\n",
      "Epoch 37: 26 / 37\n",
      "Epoch 38: 25 / 37\n",
      "Epoch 39: 26 / 37\n",
      "Epoch 40: 25 / 37\n",
      "Epoch 41: 26 / 37\n",
      "Epoch 42: 26 / 37\n",
      "Epoch 43: 26 / 37\n",
      "Epoch 44: 26 / 37\n",
      "Epoch 45: 26 / 37\n",
      "Epoch 46: 25 / 37\n",
      "Epoch 47: 26 / 37\n",
      "Epoch 48: 26 / 37\n",
      "Epoch 49: 26 / 37\n",
      "Epoch 50: 26 / 37\n",
      "Epoch 51: 26 / 37\n",
      "Epoch 52: 26 / 37\n",
      "Epoch 53: 26 / 37\n",
      "Epoch 54: 26 / 37\n",
      "Epoch 55: 26 / 37\n",
      "Epoch 56: 27 / 37\n",
      "Epoch 57: 26 / 37\n",
      "Epoch 58: 26 / 37\n",
      "Epoch 59: 26 / 37\n"
     ]
    }
   ],
   "source": [
    "first_net.SGD(train, 60, 10, 1.0, test_data=trans_test)"
   ]
  },
  {
   "cell_type": "code",
   "execution_count": 20,
   "metadata": {
    "collapsed": false
   },
   "outputs": [],
   "source": [
    "special_answer_list = []\n",
    "with open(\"test.csv\") as a_cool_file:\n",
    "    answer_file = csv.reader(a_cool_file)\n",
    "    for row in answer_file:\n",
    "        special_answer_list.append((row[0], row[1]))"
   ]
  },
  {
   "cell_type": "code",
   "execution_count": 21,
   "metadata": {
    "collapsed": false
   },
   "outputs": [
    {
     "data": {
      "text/plain": [
       "('Filename', 'Language')"
      ]
     },
     "execution_count": 21,
     "metadata": {},
     "output_type": "execute_result"
    }
   ],
   "source": [
    "special_answer_list.pop(0)"
   ]
  },
  {
   "cell_type": "code",
   "execution_count": 22,
   "metadata": {
    "collapsed": false
   },
   "outputs": [],
   "source": [
    "answer_database = []\n",
    "for row in special_answer_list:\n",
    "    with open('test/' + row[0]) as file:\n",
    "        text = file.read()\n",
    "        answer_database.append((text, row[1]))"
   ]
  },
  {
   "cell_type": "code",
   "execution_count": 23,
   "metadata": {
    "collapsed": false
   },
   "outputs": [],
   "source": [
    "ultimate_test = []\n",
    "for row in answer_database:\n",
    "    input_encoding = text_factors(row[0], regex_objects)\n",
    "    output_encoding = lang_vectorizer(row[1])\n",
    "    ultimate_test.append((input_encoding, output_encoding))"
   ]
  },
  {
   "cell_type": "code",
   "execution_count": 24,
   "metadata": {
    "collapsed": false
   },
   "outputs": [
    {
     "data": {
      "text/plain": [
       "array([[ 0.06291866],\n",
       "       [ 0.08873967],\n",
       "       [ 0.00106952],\n",
       "       [ 0.3397637 ],\n",
       "       [ 0.00124911],\n",
       "       [ 0.02339446],\n",
       "       [ 0.02519172],\n",
       "       [ 0.39470497],\n",
       "       [ 0.01299165],\n",
       "       [ 0.00108363],\n",
       "       [ 0.00483397]])"
      ]
     },
     "execution_count": 24,
     "metadata": {},
     "output_type": "execute_result"
    }
   ],
   "source": [
    "first_net.feedforward(ultimate_test[0][0])"
   ]
  },
  {
   "cell_type": "code",
   "execution_count": 25,
   "metadata": {
    "collapsed": false
   },
   "outputs": [
    {
     "ename": "TypeError",
     "evalue": "Cannot clone object 'A network with 3 layers.' (type <class 'network.Network'>): it does not seem to be a scikit-learn estimator it does not implement a 'get_params' methods.",
     "output_type": "error",
     "traceback": [
      "\u001b[0;31m---------------------------------------------------------------------------\u001b[0m",
      "\u001b[0;31mTypeError\u001b[0m                                 Traceback (most recent call last)",
      "\u001b[0;32m<ipython-input-25-aa4108ac7b2d>\u001b[0m in \u001b[0;36m<module>\u001b[0;34m()\u001b[0m\n\u001b[1;32m      1\u001b[0m \u001b[0mX\u001b[0m\u001b[0;34m,\u001b[0m \u001b[0my\u001b[0m \u001b[0;34m=\u001b[0m \u001b[0mzip\u001b[0m\u001b[0;34m(\u001b[0m\u001b[0;34m*\u001b[0m\u001b[0multimate_test\u001b[0m\u001b[0;34m)\u001b[0m\u001b[0;34m\u001b[0m\u001b[0m\n\u001b[0;32m----> 2\u001b[0;31m \u001b[0mcross_validation\u001b[0m\u001b[0;34m.\u001b[0m\u001b[0mcross_val_score\u001b[0m\u001b[0;34m(\u001b[0m\u001b[0mfirst_net\u001b[0m\u001b[0;34m,\u001b[0m \u001b[0mX\u001b[0m\u001b[0;34m,\u001b[0m \u001b[0my\u001b[0m\u001b[0;34m,\u001b[0m \u001b[0mscoring\u001b[0m\u001b[0;34m=\u001b[0m\u001b[0;34m'accuracy'\u001b[0m\u001b[0;34m)\u001b[0m\u001b[0;34m\u001b[0m\u001b[0m\n\u001b[0m",
      "\u001b[0;32m/Users/gordon/.pyenv/versions/sandbox/lib/python3.4/site-packages/sklearn/cross_validation.py\u001b[0m in \u001b[0;36mcross_val_score\u001b[0;34m(estimator, X, y, scoring, cv, n_jobs, verbose, fit_params, score_func, pre_dispatch)\u001b[0m\n\u001b[1;32m   1149\u001b[0m                                               \u001b[0mtrain\u001b[0m\u001b[0;34m,\u001b[0m \u001b[0mtest\u001b[0m\u001b[0;34m,\u001b[0m \u001b[0mverbose\u001b[0m\u001b[0;34m,\u001b[0m \u001b[0;32mNone\u001b[0m\u001b[0;34m,\u001b[0m\u001b[0;34m\u001b[0m\u001b[0m\n\u001b[1;32m   1150\u001b[0m                                               fit_params)\n\u001b[0;32m-> 1151\u001b[0;31m                       for train, test in cv)\n\u001b[0m\u001b[1;32m   1152\u001b[0m     \u001b[0;32mreturn\u001b[0m \u001b[0mnp\u001b[0m\u001b[0;34m.\u001b[0m\u001b[0marray\u001b[0m\u001b[0;34m(\u001b[0m\u001b[0mscores\u001b[0m\u001b[0;34m)\u001b[0m\u001b[0;34m[\u001b[0m\u001b[0;34m:\u001b[0m\u001b[0;34m,\u001b[0m \u001b[0;36m0\u001b[0m\u001b[0;34m]\u001b[0m\u001b[0;34m\u001b[0m\u001b[0m\n\u001b[1;32m   1153\u001b[0m \u001b[0;34m\u001b[0m\u001b[0m\n",
      "\u001b[0;32m/Users/gordon/.pyenv/versions/sandbox/lib/python3.4/site-packages/sklearn/externals/joblib/parallel.py\u001b[0m in \u001b[0;36m__call__\u001b[0;34m(self, iterable)\u001b[0m\n\u001b[1;32m    650\u001b[0m                 \u001b[0mos\u001b[0m\u001b[0;34m.\u001b[0m\u001b[0menviron\u001b[0m\u001b[0;34m[\u001b[0m\u001b[0mJOBLIB_SPAWNED_PROCESS\u001b[0m\u001b[0;34m]\u001b[0m \u001b[0;34m=\u001b[0m \u001b[0;34m'1'\u001b[0m\u001b[0;34m\u001b[0m\u001b[0m\n\u001b[1;32m    651\u001b[0m             \u001b[0mself\u001b[0m\u001b[0;34m.\u001b[0m\u001b[0m_iterating\u001b[0m \u001b[0;34m=\u001b[0m \u001b[0;32mTrue\u001b[0m\u001b[0;34m\u001b[0m\u001b[0m\n\u001b[0;32m--> 652\u001b[0;31m             \u001b[0;32mfor\u001b[0m \u001b[0mfunction\u001b[0m\u001b[0;34m,\u001b[0m \u001b[0margs\u001b[0m\u001b[0;34m,\u001b[0m \u001b[0mkwargs\u001b[0m \u001b[0;32min\u001b[0m \u001b[0miterable\u001b[0m\u001b[0;34m:\u001b[0m\u001b[0;34m\u001b[0m\u001b[0m\n\u001b[0m\u001b[1;32m    653\u001b[0m                 \u001b[0mself\u001b[0m\u001b[0;34m.\u001b[0m\u001b[0mdispatch\u001b[0m\u001b[0;34m(\u001b[0m\u001b[0mfunction\u001b[0m\u001b[0;34m,\u001b[0m \u001b[0margs\u001b[0m\u001b[0;34m,\u001b[0m \u001b[0mkwargs\u001b[0m\u001b[0;34m)\u001b[0m\u001b[0;34m\u001b[0m\u001b[0m\n\u001b[1;32m    654\u001b[0m \u001b[0;34m\u001b[0m\u001b[0m\n",
      "\u001b[0;32m/Users/gordon/.pyenv/versions/sandbox/lib/python3.4/site-packages/sklearn/cross_validation.py\u001b[0m in \u001b[0;36m<genexpr>\u001b[0;34m(.0)\u001b[0m\n\u001b[1;32m   1149\u001b[0m                                               \u001b[0mtrain\u001b[0m\u001b[0;34m,\u001b[0m \u001b[0mtest\u001b[0m\u001b[0;34m,\u001b[0m \u001b[0mverbose\u001b[0m\u001b[0;34m,\u001b[0m \u001b[0;32mNone\u001b[0m\u001b[0;34m,\u001b[0m\u001b[0;34m\u001b[0m\u001b[0m\n\u001b[1;32m   1150\u001b[0m                                               fit_params)\n\u001b[0;32m-> 1151\u001b[0;31m                       for train, test in cv)\n\u001b[0m\u001b[1;32m   1152\u001b[0m     \u001b[0;32mreturn\u001b[0m \u001b[0mnp\u001b[0m\u001b[0;34m.\u001b[0m\u001b[0marray\u001b[0m\u001b[0;34m(\u001b[0m\u001b[0mscores\u001b[0m\u001b[0;34m)\u001b[0m\u001b[0;34m[\u001b[0m\u001b[0;34m:\u001b[0m\u001b[0;34m,\u001b[0m \u001b[0;36m0\u001b[0m\u001b[0;34m]\u001b[0m\u001b[0;34m\u001b[0m\u001b[0m\n\u001b[1;32m   1153\u001b[0m \u001b[0;34m\u001b[0m\u001b[0m\n",
      "\u001b[0;32m/Users/gordon/.pyenv/versions/sandbox/lib/python3.4/site-packages/sklearn/base.py\u001b[0m in \u001b[0;36mclone\u001b[0;34m(estimator, safe)\u001b[0m\n\u001b[1;32m     41\u001b[0m                             \u001b[0;34m\"it does not seem to be a scikit-learn estimator \"\u001b[0m\u001b[0;34m\u001b[0m\u001b[0m\n\u001b[1;32m     42\u001b[0m                             \u001b[0;34m\"it does not implement a 'get_params' methods.\"\u001b[0m\u001b[0;34m\u001b[0m\u001b[0m\n\u001b[0;32m---> 43\u001b[0;31m                             % (repr(estimator), type(estimator)))\n\u001b[0m\u001b[1;32m     44\u001b[0m     \u001b[0mklass\u001b[0m \u001b[0;34m=\u001b[0m \u001b[0mestimator\u001b[0m\u001b[0;34m.\u001b[0m\u001b[0m__class__\u001b[0m\u001b[0;34m\u001b[0m\u001b[0m\n\u001b[1;32m     45\u001b[0m     \u001b[0mnew_object_params\u001b[0m \u001b[0;34m=\u001b[0m \u001b[0mestimator\u001b[0m\u001b[0;34m.\u001b[0m\u001b[0mget_params\u001b[0m\u001b[0;34m(\u001b[0m\u001b[0mdeep\u001b[0m\u001b[0;34m=\u001b[0m\u001b[0;32mFalse\u001b[0m\u001b[0;34m)\u001b[0m\u001b[0;34m\u001b[0m\u001b[0m\n",
      "\u001b[0;31mTypeError\u001b[0m: Cannot clone object 'A network with 3 layers.' (type <class 'network.Network'>): it does not seem to be a scikit-learn estimator it does not implement a 'get_params' methods."
     ]
    }
   ],
   "source": [
    "X, y = zip(*ultimate_test)\n",
    "cross_validation.cross_val_score(first_net, X, y, scoring='accuracy')"
   ]
  },
  {
   "cell_type": "code",
   "execution_count": 37,
   "metadata": {
    "collapsed": false
   },
   "outputs": [
    {
     "data": {
      "text/plain": [
       "[array([[-1.36950761],\n",
       "        [ 0.15344286],\n",
       "        [-0.90553182],\n",
       "        [ 0.36092863],\n",
       "        [-1.25528273],\n",
       "        [ 1.43628918],\n",
       "        [-0.19315284],\n",
       "        [-0.15921298],\n",
       "        [-0.90398889],\n",
       "        [-0.60310638],\n",
       "        [-0.61104173],\n",
       "        [ 1.46277378],\n",
       "        [ 1.03356502],\n",
       "        [-0.80622625],\n",
       "        [ 0.58593131],\n",
       "        [-0.24828577],\n",
       "        [ 0.08953015],\n",
       "        [-1.93449364],\n",
       "        [-1.06034037],\n",
       "        [-2.18809429]]), array([[-0.73663969],\n",
       "        [-0.4502198 ],\n",
       "        [ 1.11678827],\n",
       "        [ 0.33343041],\n",
       "        [-1.66037341],\n",
       "        [-1.5950923 ],\n",
       "        [-0.02473561],\n",
       "        [-1.19919964],\n",
       "        [-1.21963562],\n",
       "        [-1.12108316],\n",
       "        [-0.87327259]])]"
      ]
     },
     "execution_count": 37,
     "metadata": {},
     "output_type": "execute_result"
    }
   ],
   "source": [
    "first_net.biases"
   ]
  },
  {
   "cell_type": "code",
   "execution_count": 85,
   "metadata": {
    "collapsed": false
   },
   "outputs": [
    {
     "data": {
      "text/plain": [
       "(array([3]),)"
      ]
     },
     "execution_count": 85,
     "metadata": {},
     "output_type": "execute_result"
    }
   ],
   "source": [
    "lang_vector.flatten().nonzero()"
   ]
  },
  {
   "cell_type": "code",
   "execution_count": 86,
   "metadata": {
    "collapsed": false
   },
   "outputs": [
    {
     "data": {
      "text/plain": [
       "array([3])"
      ]
     },
     "execution_count": 86,
     "metadata": {},
     "output_type": "execute_result"
    }
   ],
   "source": [
    "_[0]"
   ]
  },
  {
   "cell_type": "code",
   "execution_count": 87,
   "metadata": {
    "collapsed": false
   },
   "outputs": [
    {
     "data": {
      "text/plain": [
       "3"
      ]
     },
     "execution_count": 87,
     "metadata": {},
     "output_type": "execute_result"
    }
   ],
   "source": [
    "_.item()"
   ]
  },
  {
   "cell_type": "code",
   "execution_count": 91,
   "metadata": {
    "collapsed": false
   },
   "outputs": [
    {
     "data": {
      "text/plain": [
       "3"
      ]
     },
     "execution_count": 91,
     "metadata": {},
     "output_type": "execute_result"
    }
   ],
   "source": [
    "lang_vector.nonzero()[0].item()"
   ]
  },
  {
   "cell_type": "code",
   "execution_count": 89,
   "metadata": {
    "collapsed": false
   },
   "outputs": [
    {
     "data": {
      "text/plain": [
       "array([[ 0.],\n",
       "       [ 0.],\n",
       "       [ 0.],\n",
       "       [ 1.],\n",
       "       [ 0.],\n",
       "       [ 0.],\n",
       "       [ 0.],\n",
       "       [ 0.],\n",
       "       [ 0.],\n",
       "       [ 0.],\n",
       "       [ 0.]])"
      ]
     },
     "execution_count": 89,
     "metadata": {},
     "output_type": "execute_result"
    }
   ],
   "source": [
    "lang_vector"
   ]
  },
  {
   "cell_type": "code",
   "execution_count": 94,
   "metadata": {
    "collapsed": false
   },
   "outputs": [
    {
     "data": {
      "text/plain": [
       "True"
      ]
     },
     "execution_count": 94,
     "metadata": {},
     "output_type": "execute_result"
    }
   ],
   "source": [
    "type(lang_vector) == np.ndarray"
   ]
  }
 ],
 "metadata": {
  "date": "2015-4-16",
  "kernelspec": {
   "display_name": "Python 3",
   "language": "python",
   "name": "python3"
  },
  "language_info": {
   "codemirror_mode": {
    "name": "ipython",
    "version": 3
   },
   "file_extension": ".py",
   "mimetype": "text/x-python",
   "name": "python",
   "nbconvert_exporter": "python",
   "pygments_lexer": "ipython3",
   "version": "3.4.2"
  },
  "title": "Classifying Programming Languages"
 },
 "nbformat": 4,
 "nbformat_minor": 0
}
