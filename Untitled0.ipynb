{
 "metadata": {
  "name": "",
  "signature": "sha256:e8925fee79d12083a99808252fe2e9aeeff6f04c7677ce1ee605204aafce88e8"
 },
 "nbformat": 3,
 "nbformat_minor": 0,
 "worksheets": [
  {
   "cells": [
    {
     "cell_type": "code",
     "collapsed": false,
     "input": [
      "import os\n",
      "import random\n",
      "import pandas as pd\n",
      "import numpy as np\n",
      "import re\n",
      "from network import Network\n",
      "import csv"
     ],
     "language": "python",
     "metadata": {},
     "outputs": [],
     "prompt_number": 75
    },
    {
     "cell_type": "code",
     "collapsed": false,
     "input": [
      "possible_factors = [\"/$\", \"def\", \"end\", \"{\", \"}\", \"&\", \"\\(\", \"\\)\", \"nil\", \"var\", \"print\", \"END\", \"do\", \"int\", \"str\", \"static\",\n",
      "                    \"public\", \"/+/+\", \"put\", \"return\", \"map\" \"->\", \"BigInt\", \"php\", \"|\", \"each\"]\n",
      "file_extensions = {\".py\": \"python\",\n",
      "                   \".rb\": \"ruby\",\n",
      "                   \".ruby\": \"ruby\",\n",
      "                   \".jruby\": \"ruby\",\n",
      "                   \".python\": \"python\",\n",
      "                   \".clojure\": \"clojure\",\n",
      "                   \".php\": \"php\",\n",
      "                   \".ocaml\": \"ocaml\",\n",
      "                   \".java\": \"java\",\n",
      "                   \".javascript\": \"javascript\",\n",
      "                   \".python3\": \"python\",\n",
      "                   \".racket\": \"scheme\",\n",
      "                   \".ghc\": \"haskell\",\n",
      "                   \".tcl\": \"tcl\",\n",
      "                   \".scala\": \"scala\"}"
     ],
     "language": "python",
     "metadata": {},
     "outputs": [],
     "prompt_number": 41
    },
    {
     "cell_type": "code",
     "collapsed": false,
     "input": [
      "def get_training_samples(directory, extension_dict):\n",
      "    \"Read in the examples, kick out a list of tuples of text and classifications.\"\n",
      "    text_list = []\n",
      "    lang_list = []\n",
      "    for root, dirs, files in os.walk(directory):\n",
      "        for particular_file in files:\n",
      "            extension = os.path.splitext(particular_file)[1]\n",
      "            if extension in file_extensions:\n",
      "                #print(\"Yay! \" + particular_file)\n",
      "                #print(os.path.join(root, particular_file))\n",
      "                try:\n",
      "                    file_in = open(os.path.join(root, particular_file))\n",
      "                    text = file_in.read()\n",
      "                    #print(text)\n",
      "                    text_list.append(text)\n",
      "                    lang_list.append(extension_dict[extension])\n",
      "                except:\n",
      "                    print(\"hiccuped on : \" + particular_file)\n",
      "    df = pd.DataFrame({\"code\": text_list,\n",
      "                       \"language\": lang_list})\n",
      "    data_array = np.array(list(zip(text_list, lang_list)))\n",
      "    return data_array"
     ],
     "language": "python",
     "metadata": {},
     "outputs": [],
     "prompt_number": 42
    },
    {
     "cell_type": "code",
     "collapsed": false,
     "input": [
      "training_data = get_training_samples(\"benchmarksgame-2014-08-31/\", file_extensions)"
     ],
     "language": "python",
     "metadata": {},
     "outputs": [
      {
       "output_type": "stream",
       "stream": "stdout",
       "text": [
        "hiccuped on : pidigits.ocaml-2.ocaml\n"
       ]
      }
     ],
     "prompt_number": 43
    },
    {
     "cell_type": "code",
     "collapsed": false,
     "input": [
      "def old_text_factors(snippet, regex_objects):\n",
      "    \"Takes a code snippet and returns a vector of features in [0,1]\"\n",
      "    normalizing_factor = len(snippet)\n",
      "    factors = []\n",
      "    for factor in range(len(regex_objects)):\n",
      "        target = regex_objects[factor]\n",
      "        total_num = len(target.findall(snippet))\n",
      "        frequency = total_num / normalizing_factor\n",
      "        factors.append(frequency)\n",
      "    factor_array = np.array(factors)  \n",
      "    factor_array = factor_array.reshape(-1, 1)\n",
      "    return factor_array"
     ],
     "language": "python",
     "metadata": {},
     "outputs": [],
     "prompt_number": 44
    },
    {
     "cell_type": "code",
     "collapsed": false,
     "input": [
      "def text_factors(snippet, regex_objects):\n",
      "    \"Takes a code snippet and returns a vector of features in [0,1]\"\n",
      "    normalizing_factor = len(snippet)\n",
      "    factors = []\n",
      "    for factor in range(len(regex_objects)):\n",
      "        target = regex_objects[factor]\n",
      "        if target.search(snippet) is None:\n",
      "            value = 0\n",
      "        else:\n",
      "            value = 1\n",
      "        factors.append(value)\n",
      "    factor_array = np.array(factors)  \n",
      "    factor_array = factor_array.reshape(-1, 1)\n",
      "    return factor_array"
     ],
     "language": "python",
     "metadata": {},
     "outputs": [],
     "prompt_number": 45
    },
    {
     "cell_type": "code",
     "collapsed": false,
     "input": [
      "def compile_regex_objects(factors):\n",
      "    \"Given possible strings in the code, return a list of regex objects that can match for them.\"\n",
      "    objects = []\n",
      "    for factor in factors:\n",
      "        try:\n",
      "            current_object = re.compile(factor)\n",
      "        except:\n",
      "            print(\"Problem with {}\".format(factor))\n",
      "        objects.append(current_object)\n",
      "    return objects"
     ],
     "language": "python",
     "metadata": {},
     "outputs": [],
     "prompt_number": 46
    },
    {
     "cell_type": "code",
     "collapsed": false,
     "input": [
      "training_data.shape"
     ],
     "language": "python",
     "metadata": {},
     "outputs": [
      {
       "metadata": {},
       "output_type": "pyout",
       "prompt_number": 47,
       "text": [
        "(367, 2)"
       ]
      }
     ],
     "prompt_number": 47
    },
    {
     "cell_type": "code",
     "collapsed": false,
     "input": [
      "training_data[0][1]"
     ],
     "language": "python",
     "metadata": {},
     "outputs": [
      {
       "metadata": {},
       "output_type": "pyout",
       "prompt_number": 48,
       "text": [
        "'clojure'"
       ]
      }
     ],
     "prompt_number": 48
    },
    {
     "cell_type": "code",
     "collapsed": false,
     "input": [
      "def lang_vectorizer(given_lang):\n",
      "    languages = [\"clojure\", \"python\", \"javascript\", \"ruby\", \"haskell\", \"scheme\", \"java\", \"scala\", \"php\", \"ocaml\", \"tcl\"]\n",
      "    index = languages.index(given_lang)\n",
      "    return_array = np.zeros((len(languages),1))\n",
      "    return_array[index] = 1\n",
      "    return return_array\n",
      "    \n",
      "def create_training_data(classifier_fcn, samples, regex_objects):\n",
      "    data_list = []\n",
      "    for sample in samples:\n",
      "        output_encoding = lang_vectorizer(sample[1])\n",
      "        input_encoding = classifier_fcn(sample[0], regex_objects)\n",
      "        data_list.append((input_encoding, output_encoding))\n",
      "    return data_list"
     ],
     "language": "python",
     "metadata": {},
     "outputs": [],
     "prompt_number": 49
    },
    {
     "cell_type": "code",
     "collapsed": false,
     "input": [
      "regex_objects = compile_regex_objects(possible_factors)"
     ],
     "language": "python",
     "metadata": {},
     "outputs": [],
     "prompt_number": 50
    },
    {
     "cell_type": "code",
     "collapsed": false,
     "input": [
      "training_arrays = create_training_data(text_factors, training_data, regex_objects)"
     ],
     "language": "python",
     "metadata": {},
     "outputs": [],
     "prompt_number": 51
    },
    {
     "cell_type": "code",
     "collapsed": false,
     "input": [
      "first_net = Network([len(training_arrays[0][0]), 20, len(training_arrays[0][1])])"
     ],
     "language": "python",
     "metadata": {},
     "outputs": [],
     "prompt_number": 97
    },
    {
     "cell_type": "code",
     "collapsed": false,
     "input": [
      "training_arrays[1]"
     ],
     "language": "python",
     "metadata": {},
     "outputs": [
      {
       "metadata": {},
       "output_type": "pyout",
       "prompt_number": 53,
       "text": [
        "(array([[0],\n",
        "        [1],\n",
        "        [1],\n",
        "        [0],\n",
        "        [0],\n",
        "        [1],\n",
        "        [1],\n",
        "        [1],\n",
        "        [1],\n",
        "        [0],\n",
        "        [1],\n",
        "        [0],\n",
        "        [1],\n",
        "        [1],\n",
        "        [1],\n",
        "        [0],\n",
        "        [0],\n",
        "        [1],\n",
        "        [1],\n",
        "        [0],\n",
        "        [0],\n",
        "        [0],\n",
        "        [0],\n",
        "        [1],\n",
        "        [0]]), array([[ 1.],\n",
        "        [ 0.],\n",
        "        [ 0.],\n",
        "        [ 0.],\n",
        "        [ 0.],\n",
        "        [ 0.],\n",
        "        [ 0.],\n",
        "        [ 0.],\n",
        "        [ 0.],\n",
        "        [ 0.],\n",
        "        [ 0.]]))"
       ]
      }
     ],
     "prompt_number": 53
    },
    {
     "cell_type": "code",
     "collapsed": false,
     "input": [
      "len(training_arrays)"
     ],
     "language": "python",
     "metadata": {},
     "outputs": [
      {
       "metadata": {},
       "output_type": "pyout",
       "prompt_number": 54,
       "text": [
        "367"
       ]
      }
     ],
     "prompt_number": 54
    },
    {
     "cell_type": "code",
     "collapsed": false,
     "input": [
      "def unvectorize_lang(vector):\n",
      "    \"\"\"Return a 10-dimensional unit vector with a 1.0 in the jth\n",
      "    position and zeroes elsewhere.  This is used to convert a digit\n",
      "    (0...9) into a corresponding desired output from the neural\n",
      "    network.\"\"\"\n",
      "    index = get_one_index(vector)\n",
      "    languages = [\"clojure\", \"python\", \"javascript\", \"ruby\", \"haskell\", \"scheme\", \"java\", \"scala\", \"php\", \"ocaml\", \"tcl\"]\n",
      "    lang = languages[index]\n",
      "    return lang\n",
      "\n",
      "def get_one_index(vector):\n",
      "    count = 0\n",
      "    for item in vector:\n",
      "        if item == 1:\n",
      "            return count\n",
      "        else:\n",
      "            count += 1"
     ],
     "language": "python",
     "metadata": {},
     "outputs": [],
     "prompt_number": 55
    },
    {
     "cell_type": "code",
     "collapsed": false,
     "input": [
      "lang_vector = lang_vectorizer('ruby')"
     ],
     "language": "python",
     "metadata": {},
     "outputs": [],
     "prompt_number": 56
    },
    {
     "cell_type": "code",
     "collapsed": false,
     "input": [
      "unvectorize_lang(lang_vector)"
     ],
     "language": "python",
     "metadata": {},
     "outputs": [
      {
       "metadata": {},
       "output_type": "pyout",
       "prompt_number": 57,
       "text": [
        "'ruby'"
       ]
      }
     ],
     "prompt_number": 57
    },
    {
     "cell_type": "code",
     "collapsed": false,
     "input": [
      "get_one_index(lang_vector)"
     ],
     "language": "python",
     "metadata": {},
     "outputs": [
      {
       "metadata": {},
       "output_type": "pyout",
       "prompt_number": 58,
       "text": [
        "3"
       ]
      }
     ],
     "prompt_number": 58
    },
    {
     "cell_type": "code",
     "collapsed": false,
     "input": [
      "from sklearn import metrics"
     ],
     "language": "python",
     "metadata": {},
     "outputs": [],
     "prompt_number": 59
    },
    {
     "cell_type": "code",
     "collapsed": false,
     "input": [
      "from sklearn import cross_validation"
     ],
     "language": "python",
     "metadata": {},
     "outputs": [],
     "prompt_number": 60
    },
    {
     "cell_type": "code",
     "collapsed": false,
     "input": [
      "train, test = cross_validation.train_test_split(training_arrays, test_size=0.1)"
     ],
     "language": "python",
     "metadata": {},
     "outputs": [],
     "prompt_number": 61
    },
    {
     "cell_type": "code",
     "collapsed": false,
     "input": [
      "len(test)"
     ],
     "language": "python",
     "metadata": {},
     "outputs": [
      {
       "metadata": {},
       "output_type": "pyout",
       "prompt_number": 62,
       "text": [
        "37"
       ]
      }
     ],
     "prompt_number": 62
    },
    {
     "cell_type": "code",
     "collapsed": false,
     "input": [
      "trans_test = []\n",
      "for item in range(len(test)):\n",
      "    trans_test.append((test[item][0], get_one_index(test[item][1])))"
     ],
     "language": "python",
     "metadata": {},
     "outputs": [],
     "prompt_number": 63
    },
    {
     "cell_type": "code",
     "collapsed": false,
     "input": [
      "first_net.SGD(train, 60, 10, 1.0, test_data=trans_test)"
     ],
     "language": "python",
     "metadata": {},
     "outputs": [
      {
       "output_type": "stream",
       "stream": "stdout",
       "text": [
        "Epoch 0: 7 / 37\n",
        "Epoch 1: 10 / 37"
       ]
      },
      {
       "output_type": "stream",
       "stream": "stdout",
       "text": [
        "\n",
        "Epoch 2: 14 / 37"
       ]
      },
      {
       "output_type": "stream",
       "stream": "stdout",
       "text": [
        "\n",
        "Epoch 3: 13 / 37"
       ]
      },
      {
       "output_type": "stream",
       "stream": "stdout",
       "text": [
        "\n",
        "Epoch 4: 12 / 37"
       ]
      },
      {
       "output_type": "stream",
       "stream": "stdout",
       "text": [
        "\n",
        "Epoch 5: 15 / 37"
       ]
      },
      {
       "output_type": "stream",
       "stream": "stdout",
       "text": [
        "\n",
        "Epoch 6: 15 / 37"
       ]
      },
      {
       "output_type": "stream",
       "stream": "stdout",
       "text": [
        "\n",
        "Epoch 7: 13 / 37"
       ]
      },
      {
       "output_type": "stream",
       "stream": "stdout",
       "text": [
        "\n",
        "Epoch 8: 17 / 37"
       ]
      },
      {
       "output_type": "stream",
       "stream": "stdout",
       "text": [
        "\n",
        "Epoch 9: 16 / 37"
       ]
      },
      {
       "output_type": "stream",
       "stream": "stdout",
       "text": [
        "\n",
        "Epoch 10: 19 / 37"
       ]
      },
      {
       "output_type": "stream",
       "stream": "stdout",
       "text": [
        "\n",
        "Epoch 11: 19 / 37"
       ]
      },
      {
       "output_type": "stream",
       "stream": "stdout",
       "text": [
        "\n",
        "Epoch 12: 17 / 37"
       ]
      },
      {
       "output_type": "stream",
       "stream": "stdout",
       "text": [
        "\n",
        "Epoch 13: 19 / 37"
       ]
      },
      {
       "output_type": "stream",
       "stream": "stdout",
       "text": [
        "\n",
        "Epoch 14: 19 / 37"
       ]
      },
      {
       "output_type": "stream",
       "stream": "stdout",
       "text": [
        "\n",
        "Epoch 15: 22 / 37"
       ]
      },
      {
       "output_type": "stream",
       "stream": "stdout",
       "text": [
        "\n",
        "Epoch 16: 18 / 37"
       ]
      },
      {
       "output_type": "stream",
       "stream": "stdout",
       "text": [
        "\n",
        "Epoch 17: 22 / 37"
       ]
      },
      {
       "output_type": "stream",
       "stream": "stdout",
       "text": [
        "\n",
        "Epoch 18: 21 / 37"
       ]
      },
      {
       "output_type": "stream",
       "stream": "stdout",
       "text": [
        "\n",
        "Epoch 19: 21 / 37"
       ]
      },
      {
       "output_type": "stream",
       "stream": "stdout",
       "text": [
        "\n",
        "Epoch 20: 20 / 37"
       ]
      },
      {
       "output_type": "stream",
       "stream": "stdout",
       "text": [
        "\n",
        "Epoch 21: 24 / 37"
       ]
      },
      {
       "output_type": "stream",
       "stream": "stdout",
       "text": [
        "\n",
        "Epoch 22: 21 / 37"
       ]
      },
      {
       "output_type": "stream",
       "stream": "stdout",
       "text": [
        "\n",
        "Epoch 23: 23 / 37"
       ]
      },
      {
       "output_type": "stream",
       "stream": "stdout",
       "text": [
        "\n",
        "Epoch 24: 21 / 37"
       ]
      },
      {
       "output_type": "stream",
       "stream": "stdout",
       "text": [
        "\n",
        "Epoch 25: 24 / 37"
       ]
      },
      {
       "output_type": "stream",
       "stream": "stdout",
       "text": [
        "\n",
        "Epoch 26: 22 / 37"
       ]
      },
      {
       "output_type": "stream",
       "stream": "stdout",
       "text": [
        "\n",
        "Epoch 27: 23 / 37"
       ]
      },
      {
       "output_type": "stream",
       "stream": "stdout",
       "text": [
        "\n",
        "Epoch 28: 25 / 37"
       ]
      },
      {
       "output_type": "stream",
       "stream": "stdout",
       "text": [
        "\n",
        "Epoch 29: 26 / 37"
       ]
      },
      {
       "output_type": "stream",
       "stream": "stdout",
       "text": [
        "\n",
        "Epoch 30: 25 / 37"
       ]
      },
      {
       "output_type": "stream",
       "stream": "stdout",
       "text": [
        "\n",
        "Epoch 31: 26 / 37"
       ]
      },
      {
       "output_type": "stream",
       "stream": "stdout",
       "text": [
        "\n",
        "Epoch 32: 27 / 37"
       ]
      },
      {
       "output_type": "stream",
       "stream": "stdout",
       "text": [
        "\n",
        "Epoch 33: 25 / 37"
       ]
      },
      {
       "output_type": "stream",
       "stream": "stdout",
       "text": [
        "\n",
        "Epoch 34: 27 / 37"
       ]
      },
      {
       "output_type": "stream",
       "stream": "stdout",
       "text": [
        "\n",
        "Epoch 35: 27 / 37"
       ]
      },
      {
       "output_type": "stream",
       "stream": "stdout",
       "text": [
        "\n",
        "Epoch 36: 27 / 37"
       ]
      },
      {
       "output_type": "stream",
       "stream": "stdout",
       "text": [
        "\n",
        "Epoch 37: 26 / 37"
       ]
      },
      {
       "output_type": "stream",
       "stream": "stdout",
       "text": [
        "\n",
        "Epoch 38: 27 / 37"
       ]
      },
      {
       "output_type": "stream",
       "stream": "stdout",
       "text": [
        "\n",
        "Epoch 39: 28 / 37"
       ]
      },
      {
       "output_type": "stream",
       "stream": "stdout",
       "text": [
        "\n",
        "Epoch 40: 26 / 37"
       ]
      },
      {
       "output_type": "stream",
       "stream": "stdout",
       "text": [
        "\n",
        "Epoch 41: 28 / 37"
       ]
      },
      {
       "output_type": "stream",
       "stream": "stdout",
       "text": [
        "\n",
        "Epoch 42: 27 / 37"
       ]
      },
      {
       "output_type": "stream",
       "stream": "stdout",
       "text": [
        "\n",
        "Epoch 43: 27 / 37"
       ]
      },
      {
       "output_type": "stream",
       "stream": "stdout",
       "text": [
        "\n",
        "Epoch 44: 28 / 37"
       ]
      },
      {
       "output_type": "stream",
       "stream": "stdout",
       "text": [
        "\n",
        "Epoch 45: 27 / 37"
       ]
      },
      {
       "output_type": "stream",
       "stream": "stdout",
       "text": [
        "\n",
        "Epoch 46: 29 / 37"
       ]
      },
      {
       "output_type": "stream",
       "stream": "stdout",
       "text": [
        "\n",
        "Epoch 47: 28 / 37"
       ]
      },
      {
       "output_type": "stream",
       "stream": "stdout",
       "text": [
        "\n",
        "Epoch 48: 27 / 37"
       ]
      },
      {
       "output_type": "stream",
       "stream": "stdout",
       "text": [
        "\n",
        "Epoch 49: 27 / 37"
       ]
      },
      {
       "output_type": "stream",
       "stream": "stdout",
       "text": [
        "\n",
        "Epoch 50: 28 / 37"
       ]
      },
      {
       "output_type": "stream",
       "stream": "stdout",
       "text": [
        "\n",
        "Epoch 51: 29 / 37"
       ]
      },
      {
       "output_type": "stream",
       "stream": "stdout",
       "text": [
        "\n",
        "Epoch 52: 30 / 37"
       ]
      },
      {
       "output_type": "stream",
       "stream": "stdout",
       "text": [
        "\n",
        "Epoch 53: 29 / 37"
       ]
      },
      {
       "output_type": "stream",
       "stream": "stdout",
       "text": [
        "\n",
        "Epoch 54: 28 / 37"
       ]
      },
      {
       "output_type": "stream",
       "stream": "stdout",
       "text": [
        "\n",
        "Epoch 55: 28 / 37"
       ]
      },
      {
       "output_type": "stream",
       "stream": "stdout",
       "text": [
        "\n",
        "Epoch 56: 29 / 37"
       ]
      },
      {
       "output_type": "stream",
       "stream": "stdout",
       "text": [
        "\n",
        "Epoch 57: 28 / 37"
       ]
      },
      {
       "output_type": "stream",
       "stream": "stdout",
       "text": [
        "\n",
        "Epoch 58: 28 / 37"
       ]
      },
      {
       "output_type": "stream",
       "stream": "stdout",
       "text": [
        "\n",
        "Epoch 59: 30 / 37"
       ]
      },
      {
       "output_type": "stream",
       "stream": "stdout",
       "text": [
        "\n"
       ]
      }
     ],
     "prompt_number": 64
    },
    {
     "cell_type": "code",
     "collapsed": false,
     "input": [
      "!ls test"
     ],
     "language": "python",
     "metadata": {},
     "outputs": [
      {
       "output_type": "stream",
       "stream": "stdout",
       "text": [
        "1  10 11 12 13 14 15 16 17 18 19 2  20 21 22 23 24 25 26 27 28 29 3  30 31 32 4  5  6  7  8  9\r\n"
       ]
      }
     ],
     "prompt_number": 93
    },
    {
     "cell_type": "code",
     "collapsed": false,
     "input": [
      "special_answer_list = []\n",
      "with open(\"test.csv\") as a_cool_file:\n",
      "    answer_file = csv.reader(a_cool_file)\n",
      "    for row in answer_file:\n",
      "        special_answer_list.append((row[0], row[1]))"
     ],
     "language": "python",
     "metadata": {},
     "outputs": [],
     "prompt_number": 88
    },
    {
     "cell_type": "code",
     "collapsed": false,
     "input": [
      "special_answer_list.pop(0)"
     ],
     "language": "python",
     "metadata": {},
     "outputs": [
      {
       "metadata": {},
       "output_type": "pyout",
       "prompt_number": 90,
       "text": [
        "('Filename', 'Language')"
       ]
      }
     ],
     "prompt_number": 90
    },
    {
     "cell_type": "code",
     "collapsed": false,
     "input": [
      "answer_database = []\n",
      "for row in special_answer_list:\n",
      "    with open('test/' + row[0]) as file:\n",
      "        text = file.read()\n",
      "        answer_database.append((text, row[1]))"
     ],
     "language": "python",
     "metadata": {},
     "outputs": [],
     "prompt_number": 98
    },
    {
     "cell_type": "code",
     "collapsed": false,
     "input": [
      "ultimate_test = []\n",
      "for row in answer_database:\n",
      "    input_encoding = text_factors(row[0], regex_objects)\n",
      "    output_encoding = lang_vectorizer(row[1])\n",
      "    ultimate_test.append((input_encoding, output_encoding))"
     ],
     "language": "python",
     "metadata": {},
     "outputs": [],
     "prompt_number": 101
    },
    {
     "cell_type": "code",
     "collapsed": false,
     "input": [
      "first_net.feedforward(ultimate_test[0][0])"
     ],
     "language": "python",
     "metadata": {},
     "outputs": [
      {
       "metadata": {},
       "output_type": "pyout",
       "prompt_number": 103,
       "text": [
        "array([[ 0.13587507],\n",
        "       [ 0.55439847],\n",
        "       [ 0.43469071],\n",
        "       [ 0.10631316],\n",
        "       [ 0.47427709],\n",
        "       [ 0.97422436],\n",
        "       [ 0.75496513],\n",
        "       [ 0.5626276 ],\n",
        "       [ 0.99363334],\n",
        "       [ 0.33063792],\n",
        "       [ 0.25980777]])"
       ]
      }
     ],
     "prompt_number": 103
    },
    {
     "cell_type": "code",
     "collapsed": false,
     "input": [
      "ultimate_test[0][1]"
     ],
     "language": "python",
     "metadata": {},
     "outputs": [
      {
       "metadata": {},
       "output_type": "pyout",
       "prompt_number": 104,
       "text": [
        "array([[ 1.],\n",
        "       [ 0.],\n",
        "       [ 0.],\n",
        "       [ 0.],\n",
        "       [ 0.],\n",
        "       [ 0.],\n",
        "       [ 0.],\n",
        "       [ 0.],\n",
        "       [ 0.],\n",
        "       [ 0.],\n",
        "       [ 0.]])"
       ]
      }
     ],
     "prompt_number": 104
    },
    {
     "cell_type": "code",
     "collapsed": false,
     "input": [
      "def compare_to_"
     ],
     "language": "python",
     "metadata": {},
     "outputs": []
    }
   ],
   "metadata": {}
  }
 ]
}